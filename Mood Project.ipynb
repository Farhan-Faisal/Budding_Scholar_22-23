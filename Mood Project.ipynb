{
 "cells": [
  {
   "cell_type": "markdown",
   "id": "aee436ae",
   "metadata": {},
   "source": [
    "#### Mood:\n",
    "- A state of mind that is not as specific as emotion\n",
    "- Biases which emotions are felt\n",
    "(DOI:10.1080/10803548.2003.11076589)\n",
    "\n",
    "#### Behavioral correlates with mood include\n",
    "- Voice modulation\n",
    "- Gestures\n",
    "- Cognitive performance\n",
    "- Cognitive strategy\n",
    "- Motor behavior \n",
    "(DOI:10.1080/10803548.2003.11076589)\n",
    "\n",
    "**Question is does our sensorkit provide these metrics**\n",
    "\n",
    "Keyboard stokes may predict future moods. \n",
    "- But it is not known over how long the data needs to be collected for prediction to be reliable\n",
    "(https://doi.org/10.1016/j.asej.2021.101660)"
   ]
  },
  {
   "cell_type": "markdown",
   "id": "7e46a455",
   "metadata": {},
   "source": [
    "### Data Available to us\n",
    "- Phone Usage\n",
    "- Keyboard Metrics\n",
    "\n",
    "#### Data that seems interesting\n",
    "- Total Deletions\n",
    "- Total AutoCorrects\n",
    "- Total emojiCount (we get the total of each emoji type)\n",
    "- Total ScreenTime\n",
    "\n",
    "#### Data that can be used as labels\n",
    "- Self report survey scores\n",
    "- Calculated IB Gaps"
   ]
  },
  {
   "cell_type": "code",
   "execution_count": null,
   "id": "65f45574",
   "metadata": {},
   "outputs": [],
   "source": [
    "Interesting paper:\n",
    "    https://doi.org/10.1111/bdi.12637\n",
    "    Passive data from fingers may predict future mood outcomes\n",
    "            "
   ]
  },
  {
   "cell_type": "code",
   "execution_count": null,
   "id": "11081da8",
   "metadata": {},
   "outputs": [],
   "source": [
    "&A[0] = $s0\n",
    "&B[0] = $s1\n",
    "i => $s2\n",
    "\n",
    "for (int i = 0; i < 6; i++){\n",
    "    A[i] = B[i] * 4\n",
    "}"
   ]
  },
  {
   "cell_type": "code",
   "execution_count": null,
   "id": "6f0919e4",
   "metadata": {},
   "outputs": [],
   "source": [
    "Function takes input through $a1\n",
    "\n",
    "int Square(int a){\n",
    "    return a * a\n",
    "}"
   ]
  }
 ],
 "metadata": {
  "kernelspec": {
   "display_name": "Python 3 (ipykernel)",
   "language": "python",
   "name": "python3"
  },
  "language_info": {
   "codemirror_mode": {
    "name": "ipython",
    "version": 3
   },
   "file_extension": ".py",
   "mimetype": "text/x-python",
   "name": "python",
   "nbconvert_exporter": "python",
   "pygments_lexer": "ipython3",
   "version": "3.9.7"
  }
 },
 "nbformat": 4,
 "nbformat_minor": 5
}
