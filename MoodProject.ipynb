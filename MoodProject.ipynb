{
 "cells": [
  {
   "cell_type": "markdown",
   "id": "aee436ae",
   "metadata": {},
   "source": [
    "___\n",
    "**Mood:**\n",
    "- A state of mind that is not as specific as emotion\n",
    "- Biases which emotions are felt (DOI:10.1080/10803548.2003.11076589)\n",
    "___\n",
    "**Behavioral correlates with mood include**\n",
    "- Voice modulation (May have something like this through speech telephony)\n",
    "- Gestures\n",
    "- Cognitive performance\n",
    "- Cognitive strategy\n",
    "- Motor behavior (Is like errors when pressing keys?)\n",
    "- (DOI:10.1080/10803548.2003.11076589)\n",
    "___\n",
    "\n",
    "**Keyboard stokes may predict future moods.**\n",
    "- But it is not known over how long the data needs to be collected for prediction to be reliable\n",
    "(https://doi.org/10.1016/j.asej.2021.101660)\n",
    "___"
   ]
  },
  {
   "cell_type": "markdown",
   "id": "7e46a455",
   "metadata": {},
   "source": [
    "**Data Available to us**\n",
    "- Phone Usage\n",
    "- Speech Telephony\n",
    "- Keyboard Metrics\n",
    "___\n",
    "**Data that seems interesting**\n",
    "- Total Error Distances\n",
    "- Total Corrections\n",
    "- Emoji Counts\n",
    "- Total ScreenTime\n",
    "___\n",
    "**Data that can be used as labels**\n",
    "- Self report survey scores\n",
    "- Calculated IB Gaps\n",
    "___"
   ]
  },
  {
   "cell_type": "code",
   "execution_count": 3,
   "id": "87f8cbd9",
   "metadata": {},
   "outputs": [],
   "source": [
    "import pandas as pd\n",
    "import numpy as np\n",
    "import pickle\n",
    "import datetime\n",
    "import json\n",
    "import re\n",
    "import os, gzip, shutil"
   ]
  },
  {
   "cell_type": "code",
   "execution_count": 4,
   "id": "11081da8",
   "metadata": {},
   "outputs": [],
   "source": [
    "## data directory\n",
    "\n",
    "directory = \"/Users/farhan/DNL/BuddingScholar/Budding_Scholar_22-23/Data/\""
   ]
  },
  {
   "cell_type": "code",
   "execution_count": 5,
   "id": "6f0919e4",
   "metadata": {},
   "outputs": [],
   "source": [
    "## Good Subjects\n",
    "\n",
    "# participant = \"1e7aef96-16cc-43f8-95d4-e3bc582eb6d3/2017C676-C22A-4318-903C-7544760252BB/\"\n",
    "participant = \"2baee05a-5e5a-4436-8c25-2628d46d1e08/4684F36F-66CC-4FB1-9383-3BC2B008D365/\""
   ]
  },
  {
   "cell_type": "code",
   "execution_count": 6,
   "id": "e15685a8",
   "metadata": {},
   "outputs": [],
   "source": [
    "## Concerned with keyboard metric for now\n",
    "metric_folder = \"sensorkit-keyboard-metrics/iPhone\""
   ]
  },
  {
   "cell_type": "markdown",
   "id": "805cf991",
   "metadata": {},
   "source": [
    "___\n",
    "##### Functions to unzip files in a folder\n",
    "- Function will unzip all files in a given directory\n",
    "___"
   ]
  },
  {
   "cell_type": "code",
   "execution_count": 7,
   "id": "4a99ba2c",
   "metadata": {},
   "outputs": [],
   "source": [
    "## Recursively unzip everything\n",
    "import fnmatch\n",
    "import gzip\n",
    "import shutil\n",
    "\n",
    "def gunzip(file_path, output_path):\n",
    "    with gzip.open(file_path,\"rb\") as f_in, open(output_path,\"wb\") as f_out:\n",
    "        shutil.copyfileobj(f_in, f_out)\n",
    "\n",
    "def recurse_and_gunzip(root):\n",
    "    walker = os.walk(root)\n",
    "    for rootx,dirs,files in walker:\n",
    "        for f in files:\n",
    "            if fnmatch.fnmatch(f,\"*.gz\"):\n",
    "                gunzip(rootx+\"/\"+f, rootx+\"/\"+f.replace(\".gz\",\"\"))"
   ]
  },
  {
   "cell_type": "code",
   "execution_count": 8,
   "id": "e310742d",
   "metadata": {},
   "outputs": [],
   "source": [
    "\n",
    "## Iterative decompression\n",
    "def gz_extract(directory):\n",
    "    extension = \".gz\"\n",
    "    os.chdir(directory)\n",
    "    for item in os.listdir(directory): # loop through items in dir\n",
    "      if item.endswith(extension): # check for \".gz\" extension\n",
    "          gz_name = os.path.abspath(item) # get full path of files\n",
    "          file_name = (os.path.basename(gz_name)).rsplit('.',1)[0] #get file name for file within\n",
    "          with gzip.open(gz_name,\"rb\") as f_in, open(file_name,\"wb\") as f_out:\n",
    "            print(gz_name)\n",
    "            shutil.copyfileobj(f_in, f_out)\n",
    "          os.remove(gz_name) # delete zipped file"
   ]
  },
  {
   "cell_type": "code",
   "execution_count": 9,
   "id": "3c4dd924",
   "metadata": {},
   "outputs": [],
   "source": [
    "def fix_date_to_ET(end_date):\n",
    "    if pd.to_datetime(end_date, format= '%Y-%m-%d', utc=True).tz_convert('US/Eastern').hour < 5:\n",
    "        return pd.to_datetime(end_date, format= '%Y-%m-%d', utc=True).tz_convert('US/Eastern').date() - datetime.timedelta(days=1)\n",
    "    else:\n",
    "        return pd.to_datetime(end_date, format= '%Y-%m-%d', utc=True).tz_convert('US/Eastern').date()\n",
    "\n",
    "\n",
    "def get_date_from_timestamp(timestamp):\n",
    "    return pd.to_datetime(timestamp, format= '%Y-%m-%d', utc=True).tz_convert('US/Eastern').date()\n",
    "\n",
    "def get_time_from_timestamp(timestamp):\n",
    "    return pd.to_datetime(timestamp, format= '%Y-%m-%d', utc=True).tz_convert('US/Eastern').time()\n",
    "\n",
    "def set_am_pm(end_date):\n",
    "    if pd.to_datetime(end_date, format= '%Y-%m-%d', utc=True).tz_convert('US/Eastern').hour < 12:\n",
    "        return \"am\"\n",
    "    else:\n",
    "        return \"pm\"\n",
    "\n",
    "def average_corrections_am_pm_values(dataframe):\n",
    "\n",
    "    retroDF = dataframe.groupby(['name','ET_Date', 'am/pm'], as_index=False)[\"totalRetroCorrections\"].mean()\n",
    "    nearKeyDF = dataframe.groupby(['name','ET_Date', 'am/pm'], as_index=False)[\"totalNearKeyCorrections\"].mean()\n",
    "    SubstitutionDF = dataframe.groupby(['name','ET_Date', 'am/pm'], as_index=False)[\"totalSubstitutionCorrections\"].mean()\n",
    "    SpaceDF = dataframe.groupby(['name','ET_Date', 'am/pm'], as_index=False)[\"totalSpaceCorrections\"].mean()\n",
    "\n",
    "    correctionsDF = retroDF\n",
    "    correctionsDF = correctionsDF.merge(nearKeyDF, how='left', on=['name', 'ET_Date', 'am/pm'])\n",
    "    correctionsDF = correctionsDF.merge(SubstitutionDF, how='left', on=['name', 'ET_Date', 'am/pm'])\n",
    "    correctionsDF = correctionsDF.merge(SpaceDF, how='left', on=['name', 'ET_Date', 'am/pm'])\n",
    "\n",
    "    return correctionsDF\n",
    "\n",
    "def average_errors_am_pm_values(dataframe):\n",
    "\n",
    "    shortCharUP = dataframe.groupby(['name','ET_Date', 'am/pm'], as_index=False)[\"shortWordCharKeyUpErrorDistance\"].mean()\n",
    "    shortWordDown = dataframe.groupby(['name','ET_Date', 'am/pm'], as_index=False)[\"shortWordCharKeyDownErrorDistance\"].mean()\n",
    "    spaceUP = dataframe.groupby(['name','ET_Date', 'am/pm'], as_index=False)[\"spaceUpErrorDistance\"].mean()\n",
    "\n",
    "    errorDF = shortCharUP\n",
    "    errorDF = errorDF.merge(shortWordDown, how='left', on=['name', 'ET_Date', 'am/pm'])\n",
    "    errorDF = errorDF.merge(spaceUP, how='left', on=['name', 'ET_Date', 'am/pm'])\n",
    "\n",
    "    return errorDF\n"
   ]
  },
  {
   "cell_type": "markdown",
   "id": "7862ef31",
   "metadata": {},
   "source": [
    "##### Each JSON File contains two dictionaries:\n",
    "    - device\n",
    "    - sample\n",
    "________________________________________________________________________________\n",
    "##### The device dictionary contains\n",
    "    - name\n",
    "    - phone type\n",
    "________________________________________________________________________________\n",
    "\n",
    "##### The sample dictionary has a list of samples\n",
    "##### Each sample inside this list has the following variables types of interest:\n",
    "    - Corrections\n",
    "    - Errors\n",
    "________________________________________________________________________________\n",
    "1. Corrections of interest:\n",
    "    - total Retro Corrections\n",
    "    - total Insert Key Corrections\n",
    "    - total Near Key Corrections\n",
    "    - total Hit Test Corrections\n",
    "    - total Substitution Corrections\n",
    "________________________________________________________________________________\n",
    "2. Errors of interest:\n",
    "    - shortWordCharKeyUpErrorDistance\n",
    "    - shortWordCharKeyDownErrorDistance\n",
    "    - spaceUpErrorDistance\n",
    "________________________________________________________________________________\n",
    "3. Other variables of interest:\n",
    "    - total Typing Episodes\n",
    "    - timestamp\n",
    "________________________________________________________________________________"
   ]
  },
  {
   "cell_type": "code",
   "execution_count": 10,
   "id": "9cfe552a",
   "metadata": {},
   "outputs": [],
   "source": [
    "## Functions for single participants\n",
    "## Get data and corresponding\n",
    "\n",
    "## Need a loop here to loop over all files in the directory\n",
    "### directory = \"/Users/farhan/DNL/BuddingScholar/Budding_Scholar_22-23/Data_20220930-20221001/sensorkit-keyboard-metrics/iPhone/1b9b62f1-095b-4819-92a0-ea8e7abee884/C4168B14-53AD-4091-97B5-7A3E4EB4A738\"\n",
    "## recurse_and_gunzip(directory)\n",
    "\n",
    "correctionsList = []\n",
    "errorsList = []\n",
    "\n",
    "## Loop over all the exported data folders/directories\n",
    "for folder in os.listdir(directory):\n",
    "    path = directory + folder + \"/\" + metric_folder + \"/\" + participant\n",
    "    gz_extract(path)\n",
    "\n",
    "    ## print(path)\n",
    "    ## Loop over all files in this path/directory\n",
    "    for fname in os.listdir(path):\n",
    "        \n",
    "        filename = \"\"\n",
    "\n",
    "        ## name of the file\n",
    "        if fname.endswith(\"json\"):\n",
    "            filename = path + fname\n",
    "        else: \n",
    "            continue\n",
    "        \n",
    "        ## Load the JSON File\n",
    "        file = open(filename)\n",
    "        # print(filename)\n",
    "        ## Need to use json.load and not json.loads\n",
    "        loaded_file = json.load(file)\n",
    "\n",
    "        ## Get the samples list\n",
    "        samples = loaded_file[\"samples\"]\n",
    "\n",
    "        ## Get the name\n",
    "        name = loaded_file[\"device\"][\"name\"]\n",
    "\n",
    "        ## Need a loop here to iterate over all samples\n",
    "        for i in range(len(samples)):\n",
    "\n",
    "            ## Get the TimeStamp for the current sample\n",
    "            timeStamp = samples[i][\"timestamp\"]\n",
    "\n",
    "            ## Get the sample dictionary\n",
    "            sample_dict_iterator = samples[i][\"sample\"]\n",
    "\n",
    "            ## Get the variables for the current dict iterator\n",
    "            totalTypingEpisodes = sample_dict_iterator[\"totalTypingEpisodes\"]\n",
    "\n",
    "            ## Correction variables\n",
    "            correction_dict_temp = {\n",
    "                \"name\": name,\n",
    "                \"timeStamp\": timeStamp,\n",
    "                \"totalRetroCorrections\": sample_dict_iterator[\"totalRetroCorrections\"], \"totalInsertKeyCorrections\": sample_dict_iterator[\"totalInsertKeyCorrections\"],\n",
    "                \"totalNearKeyCorrections\": sample_dict_iterator[\"totalNearKeyCorrections\"], \"totalHitTestCorrections\": sample_dict_iterator[\"totalHitTestCorrections\"],\n",
    "                \"totalSubstitutionCorrections\": sample_dict_iterator[\"totalSubstitutionCorrections\"], \"totalTranspositionCorrections\": sample_dict_iterator[\"totalTranspositionCorrections\"],\n",
    "                \"totalSpaceCorrections\": sample_dict_iterator[\"totalSpaceCorrections\"], \"totalAutoCorrections\": sample_dict_iterator[\"totalAutoCorrections\"]\n",
    "            }\n",
    "            correctionsList.append(correction_dict_temp)\n",
    "\n",
    "            ## Error variables\n",
    "            ## These are distribution\n",
    "            ## Taking the mean of the distribution for each sample\n",
    "            shortWordCharKeyUpErrorDistance = sum(sample_dict_iterator[\"shortWordCharKeyUpErrorDistance\"][\"distributionSampleValues\"])/len(sample_dict_iterator[\"shortWordCharKeyUpErrorDistance\"][\"distributionSampleValues\"])\n",
    "            shortWordCharKeyDownErrorDistance = sum(sample_dict_iterator[\"shortWordCharKeyDownErrorDistance\"][\"distributionSampleValues\"])/len(sample_dict_iterator[\"shortWordCharKeyDownErrorDistance\"][\"distributionSampleValues\"])\n",
    "            spaceUpErrorDistance = sum(sample_dict_iterator[\"spaceUpErrorDistance\"][\"distributionSampleValues\"])/len(sample_dict_iterator[\"spaceUpErrorDistance\"][\"distributionSampleValues\"])\n",
    "\n",
    "            error_dict_temp = {\n",
    "                \"name\": name,\n",
    "                \"timeStamp\": timeStamp,\n",
    "                \"shortWordCharKeyUpErrorDistance\": shortWordCharKeyUpErrorDistance,\n",
    "                \"shortWordCharKeyDownErrorDistance\": shortWordCharKeyDownErrorDistance,\n",
    "                \"spaceUpErrorDistance\": spaceUpErrorDistance\n",
    "            }\n",
    "            errorsList.append(error_dict_temp)"
   ]
  },
  {
   "cell_type": "markdown",
   "id": "9b5fc448",
   "metadata": {},
   "source": [
    "_______________\n",
    "#### Add Date, Time, and Am/Pm Column\n",
    "_______________"
   ]
  },
  {
   "cell_type": "code",
   "execution_count": 11,
   "id": "3d8ec31d",
   "metadata": {},
   "outputs": [],
   "source": [
    "correctionsDF = pd.DataFrame(correctionsList)\n",
    "errorDF = pd.DataFrame(errorsList)\n",
    "\n",
    "errorDF[\"ET_Date\"] = errorDF.apply(lambda x: get_date_from_timestamp(x.timeStamp), axis=1)\n",
    "errorDF[\"ET_Time\"] = errorDF.apply(lambda x: get_time_from_timestamp(x.timeStamp), axis=1)\n",
    "errorDF[\"am/pm\"] = errorDF.apply(lambda x: set_am_pm(x.timeStamp), axis=1) \n",
    "## errorDF.sort_values(by = \"ET_Date\", ascending = False).reset_index(drop=True)\n",
    "\n",
    "correctionsDF[\"ET_Date\"] = correctionsDF.apply(lambda x: get_date_from_timestamp(x[\"timeStamp\"]), axis=1)\n",
    "correctionsDF[\"ET_Time\"] = correctionsDF.apply(lambda x: get_time_from_timestamp(x.timeStamp), axis=1)\n",
    "correctionsDF[\"am/pm\"] = correctionsDF.apply(lambda x: set_am_pm(x.timeStamp), axis=1)\n",
    "# correctionsDF.sort_values(by = \"ET_Date\", ascending = False).reset_index(drop=True)"
   ]
  },
  {
   "cell_type": "code",
   "execution_count": 12,
   "id": "daed14ce",
   "metadata": {},
   "outputs": [],
   "source": [
    "## Get average of am and pm values\n",
    "AverageCorrectionsDF = average_corrections_am_pm_values(correctionsDF)\n",
    "AverageErrorDF = average_errors_am_pm_values(errorDF)"
   ]
  },
  {
   "cell_type": "code",
   "execution_count": 50,
   "id": "6d420fba",
   "metadata": {},
   "outputs": [
    {
     "data": {
      "text/plain": [
       "(array([2., 2., 7., 2., 8., 9., 4., 3., 0., 1.]),\n",
       " array([0.13550736, 0.14131945, 0.14713154, 0.15294363, 0.15875572,\n",
       "        0.16456781, 0.1703799 , 0.17619199, 0.18200408, 0.18781617,\n",
       "        0.19362826]),\n",
       " <BarContainer object of 10 artists>)"
      ]
     },
     "execution_count": 50,
     "metadata": {},
     "output_type": "execute_result"
    },
    {
     "data": {
      "image/png": "[encoded data removed]",
      "text/plain": [
       "<Figure size 640x480 with 1 Axes>"
      ]
     },
     "metadata": {},
     "output_type": "display_data"
    }
   ],
   "source": [
    "from sklearn import preprocessing\n",
    "import numpy\n",
    "from matplotlib import pyplot as plt \n",
    "\n",
    "temp = AverageErrorDF[\"spaceUpErrorDistance\"].to_numpy()\n",
    "normalized_arr = preprocessing.normalize([temp])\n",
    "# hist, bins = numpy.histogram(normalized_arr[0], bins=10)\n",
    "plt.hist(normalized_arr[0], bins = 10)"
   ]
  },
  {
   "cell_type": "code",
   "execution_count": 14,
   "id": "7e7d70a6",
   "metadata": {},
   "outputs": [],
   "source": [
    "# ## Want to extract the keyboard metrics in a good way\n",
    "# file_path = \"RK.8D1DBFAD.DJW Thesis_20220930-20221001/sensorkit-keyboard-metrics/iPhone/2f32cd19-e9c5-4aad-8999-6f4646169ab6/3400296D-7399-44F9-9E9D-2CA824598AE8/2022-09-28T163510-0400_2022-09-29T071630-0400.json.gz\"\n",
    "# a = gzip.open(file_path, 'rb')\n",
    "# contents = json.loads(a.read())\n",
    "# print(pd.DataFrame(contents))\n",
    "## Join the App data with this DataFrame\n",
    "\n",
    "df = pd.read_csv('/Users/farhan/DNL/BuddingScholar/Budding_Scholar_22-23/output_tables/self_report.csv')"
   ]
  }
 ],
 "metadata": {
  "kernelspec": {
   "display_name": "Python 3.9.7 ('matplot': venv)",
   "language": "python",
   "name": "python3"
  },
  "language_info": {
   "codemirror_mode": {
    "name": "ipython",
    "version": 3
   },
   "file_extension": ".py",
   "mimetype": "text/x-python",
   "name": "python",
   "nbconvert_exporter": "python",
   "pygments_lexer": "ipython3",
   "version": "3.9.7"
  },
  "vscode": {
   "interpreter": {
    "hash": "306fbe589209a2d0d5ac1a00bab7d8bd2133d67d0d7a0a1aa98f6462bf4ce77d"
   }
  }
 },
 "nbformat": 4,
 "nbformat_minor": 5
}
