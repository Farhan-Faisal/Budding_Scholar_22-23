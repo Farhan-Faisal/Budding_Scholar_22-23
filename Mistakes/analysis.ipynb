{
 "cells": [
  {
   "cell_type": "code",
   "execution_count": null,
   "metadata": {},
   "outputs": [],
   "source": []
  },
  {
   "cell_type": "markdown",
   "metadata": {},
   "source": [
    "Multi Level modelling\n",
    "- Fixed effects occur due to our independent variable\n",
    "- Random effects occur due to clustering of data\n",
    "    - We can treat effect due to our repeated measures variable as a random effect\n",
    "    - So in our case, we can treat our participants as a source of random effects in our model\n",
    "\n",
    "Random effects models can be randon slope, random intercept, or both\n",
    "- Random intercept only = The random effects introduce different intercepts amongst groups (most common)\n",
    "- Randon slope = The random effects introduce different slopes (not common)\n",
    "- Can have a model where the intercepts and slopes can both vary (best approach)"
   ]
  }
 ],
 "metadata": {
  "kernelspec": {
   "display_name": "Python 3.9.7 64-bit",
   "language": "python",
   "name": "python3"
  },
  "language_info": {
   "name": "python",
   "version": "3.9.7"
  },
  "orig_nbformat": 4,
  "vscode": {
   "interpreter": {
    "hash": "aee8b7b246df8f9039afb4144a1f6fd8d2ca17a180786b69acc140d282b71a49"
   }
  }
 },
 "nbformat": 4,
 "nbformat_minor": 2
}
